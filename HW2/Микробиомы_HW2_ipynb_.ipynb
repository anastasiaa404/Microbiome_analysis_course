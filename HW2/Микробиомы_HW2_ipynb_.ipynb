{
  "cells": [
    {
      "cell_type": "code",
      "execution_count": null,
      "metadata": {
        "colab": {
          "base_uri": "https://localhost:8080/"
        },
        "id": "G4lXYI9mst6A",
        "outputId": "63d6c120-416f-4059-904c-db7e2bc33c52"
      },
      "outputs": [
        {
          "output_type": "stream",
          "name": "stdout",
          "text": [
            "--2024-05-21 18:17:41--  https://repo.anaconda.com/miniconda/Miniconda3-latest-Linux-x86_64.sh\n",
            "Resolving repo.anaconda.com (repo.anaconda.com)... 104.16.32.241, 104.16.191.158, 2606:4700::6810:bf9e, ...\n",
            "Connecting to repo.anaconda.com (repo.anaconda.com)|104.16.32.241|:443... connected.\n",
            "HTTP request sent, awaiting response... 200 OK\n",
            "Length: 143808873 (137M) [application/octet-stream]\n",
            "Saving to: ‘Miniconda3-latest-Linux-x86_64.sh.2’\n",
            "\n",
            "Miniconda3-latest-L 100%[===================>] 137.15M   223MB/s    in 0.6s    \n",
            "\n",
            "2024-05-21 18:17:42 (223 MB/s) - ‘Miniconda3-latest-Linux-x86_64.sh.2’ saved [143808873/143808873]\n",
            "\n",
            "PREFIX=/usr/local\n",
            "Unpacking payload ...\n",
            "\n",
            "Installing base environment...\n",
            "\n",
            "Preparing transaction: ...working... done\n",
            "Executing transaction: ...working... done\n",
            "installation finished.\n",
            "WARNING:\n",
            "    You currently have a PYTHONPATH environment variable set. This may cause\n",
            "    unexpected behavior when running the Python interpreter in Miniconda3.\n",
            "    For best results, please verify that your PYTHONPATH only points to\n",
            "    directories of packages that are compatible with the Python interpreter\n",
            "    in Miniconda3: /usr/local\n"
          ]
        }
      ],
      "source": [
        "!wget https://repo.anaconda.com/miniconda/Miniconda3-latest-Linux-x86_64.sh\n",
        "!bash Miniconda3-latest-Linux-x86_64.sh -bfp /usr/local"
      ]
    },
    {
      "cell_type": "code",
      "execution_count": null,
      "metadata": {
        "colab": {
          "base_uri": "https://localhost:8080/"
        },
        "id": "KWiAy9VQs_wO",
        "outputId": "76637dd7-afa3-4014-cc52-b83d3895dd49"
      },
      "outputs": [
        {
          "output_type": "stream",
          "name": "stdout",
          "text": [
            "conda 24.4.0\n"
          ]
        }
      ],
      "source": [
        "!conda --version"
      ]
    },
    {
      "cell_type": "code",
      "execution_count": null,
      "metadata": {
        "id": "CuBZuMv_zGSh"
      },
      "outputs": [],
      "source": [
        "!mkdir picrust"
      ]
    },
    {
      "cell_type": "code",
      "execution_count": null,
      "metadata": {
        "colab": {
          "base_uri": "https://localhost:8080/"
        },
        "collapsed": true,
        "id": "NDdhGXYEzGaZ",
        "outputId": "a8baeba6-0972-495d-9418-10ad3acdd9ab"
      },
      "outputs": [
        {
          "output_type": "stream",
          "name": "stdout",
          "text": [
            "\n",
            "EnvironmentNameNotFound: Could not find conda environment: picrust2\n",
            "You can list all discoverable environments with `conda info --envs`.\n",
            "\n",
            "\n"
          ]
        }
      ],
      "source": [
        "!source activate picrust2 && picrust2_pipeline.py -s /content/dna-sequences.fasta -i /content/feature-table.biom -o /content/picrust -p 1"
      ]
    },
    {
      "cell_type": "code",
      "execution_count": null,
      "metadata": {
        "colab": {
          "base_uri": "https://localhost:8080/"
        },
        "id": "2rf6lEijzGfY",
        "outputId": "a634d4ea-edd1-4f2a-8481-c5c312e66a25"
      },
      "outputs": [
        {
          "output_type": "stream",
          "name": "stdout",
          "text": [
            "mv: cannot stat 'dna-sequences.fasta': No such file or directory\n"
          ]
        }
      ],
      "source": [
        "!mv dna-sequences.fasta dna-sequences.fna\n"
      ]
    },
    {
      "cell_type": "code",
      "execution_count": null,
      "metadata": {
        "id": "byQg6Cs8zGk2"
      },
      "outputs": [],
      "source": [
        "!rm -rf picrust"
      ]
    },
    {
      "cell_type": "code",
      "execution_count": null,
      "metadata": {
        "colab": {
          "base_uri": "https://localhost:8080/"
        },
        "id": "i3-TwPddzG1p",
        "outputId": "7c4682ef-3a4c-4958-8a6f-d89731af4ca8"
      },
      "outputs": [
        {
          "output_type": "stream",
          "name": "stdout",
          "text": [
            "\n",
            "EnvironmentNameNotFound: Could not find conda environment: picrust2\n",
            "You can list all discoverable environments with `conda info --envs`.\n",
            "\n",
            "\n"
          ]
        }
      ],
      "source": [
        "!source activate picrust2 && picrust2_pipeline.py -s /content/dna-sequences.fna -i /content/feature-table.biom -o /content/picrust -p 1"
      ]
    },
    {
      "cell_type": "code",
      "execution_count": null,
      "metadata": {
        "colab": {
          "base_uri": "https://localhost:8080/"
        },
        "id": "0dqdOpiCzHCi",
        "outputId": "e8f9d2c3-ed1e-4958-df1b-0aad639766eb"
      },
      "outputs": [
        {
          "output_type": "stream",
          "name": "stdout",
          "text": [
            "--2024-05-21 18:20:41--  https://data.qiime2.org/distro/core/qiime2-2023.2-py38-linux-conda.yml\n",
            "Resolving data.qiime2.org (data.qiime2.org)... 54.200.1.12\n",
            "Connecting to data.qiime2.org (data.qiime2.org)|54.200.1.12|:443... connected.\n",
            "HTTP request sent, awaiting response... 302 FOUND\n",
            "Location: https://raw.githubusercontent.com/qiime2/environment-files/master/2023.2/release/qiime2-2023.2-py38-linux-conda.yml [following]\n",
            "--2024-05-21 18:20:42--  https://raw.githubusercontent.com/qiime2/environment-files/master/2023.2/release/qiime2-2023.2-py38-linux-conda.yml\n",
            "Resolving raw.githubusercontent.com (raw.githubusercontent.com)... 185.199.108.133, 185.199.109.133, 185.199.110.133, ...\n",
            "Connecting to raw.githubusercontent.com (raw.githubusercontent.com)|185.199.108.133|:443... connected.\n",
            "HTTP request sent, awaiting response... 200 OK\n",
            "Length: 14704 (14K) [text/plain]\n",
            "Saving to: ‘qiime2-2023.2-py38-linux-conda.yml.2’\n",
            "\n",
            "qiime2-2023.2-py38- 100%[===================>]  14.36K  --.-KB/s    in 0s      \n",
            "\n",
            "2024-05-21 18:20:42 (72.7 MB/s) - ‘qiime2-2023.2-py38-linux-conda.yml.2’ saved [14704/14704]\n",
            "\n"
          ]
        }
      ],
      "source": [
        "!wget https://data.qiime2.org/distro/core/qiime2-2023.2-py38-linux-conda.yml"
      ]
    },
    {
      "cell_type": "code",
      "execution_count": null,
      "metadata": {
        "colab": {
          "base_uri": "https://localhost:8080/"
        },
        "collapsed": true,
        "id": "IP4ZxerZzHJk",
        "outputId": "04ac3cef-60ae-400f-b1a3-3542e46ba1f9"
      },
      "outputs": [
        {
          "output_type": "stream",
          "name": "stdout",
          "text": [
            "\n",
            "CondaValueError: prefix already exists: /usr/local/envs/qiime2-2023.2\n",
            "\n"
          ]
        }
      ],
      "source": [
        "!conda env create -n qiime2-2023.2 --file qiime2-2023.2-py38-linux-conda.yml"
      ]
    },
    {
      "cell_type": "code",
      "execution_count": null,
      "metadata": {
        "colab": {
          "base_uri": "https://localhost:8080/"
        },
        "id": "yXU8aqSRzHPJ",
        "outputId": "a59d0c21-8d82-45ed-8354-ff66d14fa88c"
      },
      "outputs": [
        {
          "output_type": "stream",
          "name": "stdout",
          "text": [
            "Channels:\n",
            " - conda-forge\n",
            " - bioconda\n",
            " - gavinmdouglas\n",
            " - defaults\n",
            " - qiime2/label/r2023.2\n",
            "Platform: linux-64\n",
            "Collecting package metadata (repodata.json): - \b\b\\ \b\b| \b\b/ \b\b- \b\b\\ \b\b| \b\b/ \b\b- \b\b\\ \b\b| \b\b/ \b\b- \b\b\\ \b\b| \b\b/ \b\b- \b\b\\ \b\b| \b\b/ \b\b- \b\b\\ \b\b| \b\b/ \b\b- \b\b\\ \b\b| \b\b/ \b\b- \b\b\\ \b\b| \b\b/ \b\b- \b\b\\ \b\b| \b\b/ \b\b- \b\b\\ \b\b| \b\b/ \b\b- \b\b\\ \b\b| \b\bdone\n",
            "Solving environment: - \b\b\\ \b\b| \b\b/ \b\b- \b\b\\ \b\b| \b\b/ \b\b- \b\b\\ \b\b| \b\b/ \b\b- \b\b\\ \b\b| \b\b/ \b\b- \b\b\\ \b\b| \b\b/ \b\b- \b\b\\ \b\b| \b\b/ \b\b- \b\b\\ \b\b| \b\b/ \b\b- \b\b\\ \b\b| \b\b/ \b\b- \b\b\\ \b\b| \b\b/ \b\b- \b\b\\ \b\b| \b\b/ \b\b- \b\b\\ \b\b| \b\b/ \b\b- \b\b\\ \b\b| \b\b/ \b\b- \b\b\\ \b\b| \b\b/ \b\b- \b\b\\ \b\b| \b\b/ \b\b- \b\bdone\n",
            "\n",
            "# All requested packages already installed.\n",
            "\n"
          ]
        }
      ],
      "source": [
        "!source activate qiime2-2023.2 && conda install q2-picrust2=2023.2 -c conda-forge -c bioconda -c gavinmdouglas"
      ]
    },
    {
      "cell_type": "markdown",
      "metadata": {
        "id": "mbGxfEZkoCCq"
      },
      "source": [
        "# Перевод в формат qza\n",
        "## 1. Установка qiime\n",
        "- Работала в терминале, предварительно установила qiime:\n",
        "- Загрузите и установите Miniconda, если он еще не установлен\n",
        "```\n",
        "wget https://repo.anaconda.com/miniconda/Miniconda3-latest-Linux-x86_64.sh\n",
        "bash Miniconda3-latest-Linux-x86_64.sh\n",
        "```\n",
        "```\n",
        "# Перезапустите терминал, затем создайте и активируйте новое окружение для QIIME 2\n",
        "conda update conda\n",
        "wget https://data.qiime2.org/distro/core/qiime2-2023.2-py38-linux-conda.yml\n",
        "conda env create -n qiime2-2023.2 --file qiime2-2023.2-py38-linux-conda.yml\n",
        "conda activate qiime2-2023.2\n",
        "```\n",
        "- Проверяю, что все работает, если все сделано правильно, эта команда должна вывести справочную информацию о QIIME 2.\n",
        "```\n",
        "qiime --help\n",
        "```\n",
        "\n",
        "## 2. Перевод файла feature-table.biom:\n",
        "```\n",
        "qiime tools import \\\n",
        "  --input-path /home/anastasia/microbiome/otus/feature-table.biom \\\n",
        "  --type 'FeatureTable[Frequency]' \\\n",
        "  --input-format BIOMV210Format \\\n",
        "  --output-path feature_table_biom.qza\n",
        "```  \n",
        "qiime tools import \\\n",
        "  --input-path /home/anastasia/microbiome/feature-tablemay.biom \\\n",
        "  --type 'FeatureTable[Frequency]' \\\n",
        "  --input-format BIOMV210Format \\\n",
        "  --output-path feature_tablemay_biom.qza\n",
        "\n",
        "## 3. Перевод файла dna-sequences.fasta:\n",
        "```\n",
        "qiime tools import \\\n",
        "  --input-path /home/anastasia/microbiome/denoise_out/dna-sequences.fasta \\\n",
        "  --type 'FeatureData[Sequence]' \\\n",
        "  --output-path dna_sequences.qza\n",
        "```\n",
        "qiime tools import \\\n",
        "  --input-path /home/anastasia/microbiome/dna-sequences.fasta \\\n",
        "  --type 'FeatureData[Sequence]' \\\n",
        "  --output-path dna_sequences.qza\n",
        "\n",
        "-  на выходе появятся два файла, с которыми далее будем работать."
      ]
    },
    {
      "cell_type": "markdown",
      "metadata": {
        "id": "dodBLZuPypTS"
      },
      "source": [
        "- Из ДЗ1 создаются два файла feature-table.biom:\n",
        "\n",
        "1). qiime tools export --input-path \"rarefied/otus_rar_5K.qza\" --output-path \"otus\"\n",
        "\n",
        "2). qiime tools export --input-path \"otus/collapse_6.qza\" --output-path \"otus/summarized_taxa\"\n",
        "\n",
        "- В одном сырые ASV, s другом таксономия на уровне рода. Нужен первый вариант\n",
        "\n"
      ]
    },
    {
      "cell_type": "code",
      "execution_count": null,
      "metadata": {
        "id": "BW2SYMaPGCQH",
        "colab": {
          "base_uri": "https://localhost:8080/"
        },
        "outputId": "e7ecd445-8842-435d-d915-ee647ba133da"
      },
      "outputs": [
        {
          "output_type": "stream",
          "name": "stdout",
          "text": [
            "Stopping - no ASV ids overlap between input FASTA and sequence abundance table\n",
            "\u001b[0m"
          ]
        }
      ],
      "source": [
        "!source activate qiime2-2023.2 && qiime picrust2 full-pipeline \\\n",
        "   --i-table /content/feature_table_biom.qza \\\n",
        "   --i-seq /content/dna_sequences.qza \\\n",
        "   --output-dir q2-picrust2_output \\\n",
        "   --p-placement-tool sepp \\\n",
        "   --p-threads 1 \\\n",
        "   --p-hsp-method pic \\\n",
        "   --p-max-nsti 2 \\\n",
        "   --verbose"
      ]
    },
    {
      "cell_type": "code",
      "source": [
        "!source activate qiime2-2023.2 && qiime picrust2 full-pipeline \\\n",
        "   --i-table /content/feature_table_biom.qza \\\n",
        "   --i-seq /content/rep_seqsmay.qza \\\n",
        "   --output-dir q2-picrust2_output \\\n",
        "   --p-placement-tool sepp \\\n",
        "   --p-threads 1 \\\n",
        "   --p-hsp-method pic \\\n",
        "   --p-max-nsti 2 \\\n",
        "   --verbose"
      ],
      "metadata": {
        "colab": {
          "base_uri": "https://localhost:8080/"
        },
        "id": "9ZMH-1AccRgt",
        "outputId": "37011962-3c2c-4c32-8b30-b299ff63ef30"
      },
      "execution_count": null,
      "outputs": [
        {
          "output_type": "stream",
          "name": "stdout",
          "text": [
            "\n",
            "\n",
            "\n",
            "\n",
            "All ASVs were below the max NSTI cut-off of 2.0 and so all were retained for downstream analyses.\n",
            "\n",
            "All ASVs were below the max NSTI cut-off of 2.0 and so all were retained for downstream analyses.\n",
            "\n",
            "\n",
            "\u001b[32mSaved FeatureTable[Frequency] to: q2-picrust2_output/ko_metagenome.qza\u001b[0m\n",
            "\u001b[32mSaved FeatureTable[Frequency] to: q2-picrust2_output/ec_metagenome.qza\u001b[0m\n",
            "\u001b[32mSaved FeatureTable[Frequency] to: q2-picrust2_output/pathway_abundance.qza\u001b[0m\n",
            "\u001b[0m"
          ]
        }
      ]
    }
  ],
  "metadata": {
    "colab": {
      "provenance": []
    },
    "kernelspec": {
      "display_name": "Python 3",
      "name": "python3"
    },
    "language_info": {
      "name": "python"
    }
  },
  "nbformat": 4,
  "nbformat_minor": 0
}